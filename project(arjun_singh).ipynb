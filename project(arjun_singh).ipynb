{
 "cells": [
  {
   "cell_type": "code",
   "execution_count": null,
   "id": "fa09388a-b55d-42f5-8236-fe424f214490",
   "metadata": {},
   "outputs": [],
   "source": [
    "total=0\n",
    "normal=200\n",
    "recliner=50\n",
    "while True:\n",
    "    a=input(\"enter name here:\")\n",
    "    b=input(\"normal(500) or recliner(800):\")\n",
    "    c=int(input(\"number of seats:\"))\n",
    "    normal-=c\n",
    "    recliner-=c\n",
    "    \n",
    "    if b==\"normal\" and normal<=0:\n",
    "        print(\"Seats Full......\")\n",
    "    elif b==\"normal\" and normal>=0:\n",
    "        normal-=c\n",
    "        total=c*500\n",
    "    elif b==\"recliner\" and recliner<=0:\n",
    "        print (\"Seats Full...\")\n",
    "    elif b==\"recliner\" and recliner>=0:\n",
    "        recliner-=c\n",
    "        total=c*800\n",
    "    else:\n",
    "        print(\"invalid....try again\")\n",
    "\n",
    "    d=input(\"add combos (yes/no)\")\n",
    "    if d==\"yes\":\n",
    "        e=int(input(\"\"\"press1 for cold drink(400)\n",
    "press 2 for Burger(450)\n",
    "press 3 for popcorn (400):\n",
    "\"\"\"))\n",
    "        f=int(input(\"quantity:\"))\n",
    "        if e==1:\n",
    "            total+=f*400\n",
    "        elif e==2:\n",
    "            total+=f*450\n",
    "    elif e==3:\n",
    "        total+=f*400\n",
    "    else:\n",
    "        d==\"no\"\n",
    "        print(\"ok\")\n",
    "        \n",
    "    \n",
    "    print(\"-\"*30)\n",
    "    print(\"Bill:\",total)\n",
    "    print(\"-\"*30)\n",
    "\n",
    "    next=input(\"Next person:\")\n",
    "    if next==\"no\":\n",
    "        break\n",
    "\n",
    "\n",
    "\n",
    "\n",
    "\n"
   ]
  },
  {
   "cell_type": "code",
   "execution_count": null,
   "id": "aaf670d4-ebeb-44fa-b889-464342da91bc",
   "metadata": {},
   "outputs": [],
   "source": []
  }
 ],
 "metadata": {
  "kernelspec": {
   "display_name": "Python 3 (ipykernel)",
   "language": "python",
   "name": "python3"
  },
  "language_info": {
   "codemirror_mode": {
    "name": "ipython",
    "version": 3
   },
   "file_extension": ".py",
   "mimetype": "text/x-python",
   "name": "python",
   "nbconvert_exporter": "python",
   "pygments_lexer": "ipython3",
   "version": "3.11.5"
  }
 },
 "nbformat": 4,
 "nbformat_minor": 5
}
