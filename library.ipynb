{
 "cells": [
  {
   "cell_type": "code",
   "execution_count": null,
   "id": "ebb1c26d-ea2a-45db-9e8e-9767ed95d2b7",
   "metadata": {},
   "outputs": [],
   "source": []
  },
  {
   "cell_type": "code",
   "execution_count": null,
   "id": "d6c5c234-d458-445c-989c-c184b0e8c81a",
   "metadata": {},
   "outputs": [],
   "source": []
  },
  {
   "cell_type": "code",
   "execution_count": 39,
   "id": "ca7a22ac-8b35-40a8-a806-34ce2578023f",
   "metadata": {},
   "outputs": [
    {
     "name": "stdout",
     "output_type": "stream",
     "text": [
      "***********Welcome to Library**************\n",
      "~~~~~~~~Create New ID~~~~~~~~~~\n"
     ]
    },
    {
     "name": "stdin",
     "output_type": "stream",
     "text": [
      " Create username: aws\n",
      "Create password: aws\n"
     ]
    },
    {
     "name": "stdout",
     "output_type": "stream",
     "text": [
      "ID created sucesfully\n",
      "~~~~~~ID Login~~~~~~~~~~\n"
     ]
    },
    {
     "name": "stdin",
     "output_type": "stream",
     "text": [
      "Enter Username: ase\n"
     ]
    },
    {
     "name": "stdout",
     "output_type": "stream",
     "text": [
      "Incorrect Username\n"
     ]
    }
   ],
   "source": [
    "print(\"***********Welcome to Library**************\")\n",
    "print(\"~~~~~~~~Create New ID~~~~~~~~~~\")\n",
    "p=input(\" Create username:\")\n",
    "q=input(\"Create password:\")\n",
    "print(\"ID created sucesfully\")\n",
    "\n",
    "\n",
    "print(\"~~~~~~ID Login~~~~~~~~~~\")\n",
    "r=input(\"Enter Username:\")\n",
    "if r==p:\n",
    "    s=input(\"Enter Password:\")\n",
    "    if s==q:\n",
    "        print(\"Login sucessfully:\")\n",
    "    else:\n",
    "        print(\"Incorrect Password\")\n",
    "\n",
    "else:\n",
    "    print(\"Incorrect Username\")\n",
    "\n",
    "Maths=15\n",
    "Science=20\n",
    "Art=25\n",
    "cart=[]\n",
    "if r==p:\n",
    "    if s==q:\n",
    "        b= input(\"Enter Name:\")\n",
    "        while True:\n",
    "            c=int(input(\"\"\"press1 for borrow book\n",
    "press 2 for return:\"\"\"))\n",
    "            \n",
    "            if c==1:\n",
    "                d=input(\"Enter book name\").upper()\n",
    "                e=int(input(\"quantity:\"))\n",
    "                cart.append(d)\n",
    "                if d==\"Maths\":\n",
    "                    Maths-=e\n",
    "                elif d==\"Science\":\n",
    "                    Science-=e\n",
    "                else:\n",
    "                    d==\"art\"\n",
    "                    Art-=e\n",
    "    \n",
    "            \n",
    "            elif c==2 and cart==[d] :\n",
    "                d=input(\"Enter book name:\").upper()\n",
    "                z=int(input(\"quantity:\"))\n",
    "                if d==\"Maths\":\n",
    "                    Maths+=z\n",
    "                elif d==\"sacience\":\n",
    "                    Science+=z\n",
    "                else:\n",
    "                    d==\"Art\"\n",
    "                    Art+=z\n",
    "    \n",
    "            elif c==2 and cart==[]:\n",
    "                print(\"Please add some books ......then try again\")\n",
    "    \n",
    "            \n",
    "    \n",
    "            else:\n",
    "                print(\"Invalid number .......try again\")\n",
    "        \n",
    "            \n",
    "        \n",
    "            f=input(\"do you want to add or remove any book:(yes/no)\")\n",
    "            if f==\"no\":\n",
    "                break\n",
    "            \n",
    "        print(\"*\"*30)\n",
    "        print(\"Book taker:\",b)\n",
    "        print(\"Yours book:\",cart)\n",
    "        print(\"books left:\")\n",
    "        print(\"Maths:\",Maths)\n",
    "        print(\"science:\",Science)\n",
    "        print(\"Art:\",Art)\n",
    "        print(\"*\"*30)"
   ]
  },
  {
   "cell_type": "code",
   "execution_count": null,
   "id": "8b6c3615-0f4e-4d6f-add2-e815567f4abe",
   "metadata": {},
   "outputs": [],
   "source": [
    "\n"
   ]
  },
  {
   "cell_type": "code",
   "execution_count": null,
   "id": "a5520612-8def-4e93-b71f-c7260199637e",
   "metadata": {},
   "outputs": [],
   "source": []
  }
 ],
 "metadata": {
  "kernelspec": {
   "display_name": "Python 3 (ipykernel)",
   "language": "python",
   "name": "python3"
  },
  "language_info": {
   "codemirror_mode": {
    "name": "ipython",
    "version": 3
   },
   "file_extension": ".py",
   "mimetype": "text/x-python",
   "name": "python",
   "nbconvert_exporter": "python",
   "pygments_lexer": "ipython3",
   "version": "3.11.5"
  }
 },
 "nbformat": 4,
 "nbformat_minor": 5
}
